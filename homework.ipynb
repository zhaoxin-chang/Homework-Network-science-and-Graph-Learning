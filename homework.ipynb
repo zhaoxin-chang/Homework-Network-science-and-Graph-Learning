{
  "nbformat": 4,
  "nbformat_minor": 0,
  "metadata": {
    "colab": {
      "provenance": []
    },
    "kernelspec": {
      "name": "python3",
      "display_name": "Python 3"
    },
    "language_info": {
      "name": "python"
    }
  },
  "cells": [
    {
      "cell_type": "code",
      "execution_count": 1,
      "metadata": {
        "id": "yQT5hoGEvN7k",
        "colab": {
          "base_uri": "https://localhost:8080/"
        },
        "outputId": "e0ba5d59-55d6-4786-ebd4-6dddc10cd892"
      },
      "outputs": [
        {
          "output_type": "stream",
          "name": "stdout",
          "text": [
            "Drive already mounted at /content/drive; to attempt to forcibly remount, call drive.mount(\"/content/drive\", force_remount=True).\n"
          ]
        }
      ],
      "source": [
        "import networkx as nx\n",
        "import matplotlib.pylab as plt\n",
        "import numpy as np\n",
        "import os\n",
        "from google.colab import drive\n",
        "import seaborn as sns\n",
        "import progressbar\n",
        "import random\n",
        "import math\n",
        "import itertools\n",
        "import copy\n",
        "drive.mount('/content/drive')\n"
      ]
    },
    {
      "cell_type": "code",
      "source": [
        "#@title Question 2: Social Network Analysis with the Facebook100 Dataset \n",
        "Caltech = nx.read_graphml(\"/content/drive/MyDrive/fb100/Caltech36.graphml\")\n",
        "MIT = nx.read_graphml(\"/content/drive/MyDrive/fb100/MIT8.graphml\")\n",
        "JHopking = nx.read_graphml(\"/content/drive/MyDrive/fb100/Johns Hopkins55.graphml\")"
      ],
      "metadata": {
        "id": "Fp-fdoQ2JXFQ"
      },
      "execution_count": null,
      "outputs": []
    },
    {
      "cell_type": "code",
      "source": [
        "#@title (a) degree distribution\n",
        "def degDis(G):\n",
        "  degree_sequence = sorted([d for n, d in G.degree()], reverse=True)  # degree sequence\n",
        "  plt.hist(degree_sequence, bins='auto')\n",
        "  #hist, bin_edges = np.histogram(degree_sequence, density=True)\n",
        "  #plt.semilogy(bin_edges[:-1], hist, 'o', ms=15)\n",
        "  plt.xlabel(r\"$k$, degree \")\n",
        "  plt.ylabel(r\"PDF\")\n",
        "  #plt.ylim(1e-3, 1)\n",
        "  plt.title(\"Degree distribution\")"
      ],
      "metadata": {
        "id": "ORjDDzxpCeJJ"
      },
      "execution_count": null,
      "outputs": []
    },
    {
      "cell_type": "code",
      "source": [
        "#@title Caltech\n",
        "degDis(Caltech)"
      ],
      "metadata": {
        "colab": {
          "base_uri": "https://localhost:8080/",
          "height": 299
        },
        "id": "AZCfeTCMDwMZ",
        "outputId": "2f377abe-e58e-4057-cb7d-cd2d8c64e66d"
      },
      "execution_count": null,
      "outputs": [
        {
          "output_type": "display_data",
          "data": {
            "text/plain": [
              "<Figure size 432x288 with 1 Axes>"
            ],
            "image/png": "[encoded data removed]"
          },
          "metadata": {
            "needs_background": "light"
          }
        }
      ]
    },
    {
      "cell_type": "code",
      "source": [
        "#@title MIT\n",
        "degDis(MIT)"
      ],
      "metadata": {
        "id": "hgOTr5ON3cKs",
        "colab": {
          "base_uri": "https://localhost:8080/",
          "height": 299
        },
        "outputId": "1c8927da-20c7-40b2-9a79-de5c5eeab80d"
      },
      "execution_count": null,
      "outputs": [
        {
          "output_type": "display_data",
          "data": {
            "text/plain": [
              "<Figure size 432x288 with 1 Axes>"
            ],
            "image/png": "[encoded data removed]"
          },
          "metadata": {
            "needs_background": "light"
          }
        }
      ]
    },
    {
      "cell_type": "code",
      "source": [
        "#@title JHopking\n",
        "degDis(JHopking)"
      ],
      "metadata": {
        "colab": {
          "base_uri": "https://localhost:8080/",
          "height": 299
        },
        "id": "kwfIDLy0CfyH",
        "outputId": "c9043123-64f1-44f1-9027-7b546e9206a9"
      },
      "execution_count": null,
      "outputs": [
        {
          "output_type": "display_data",
          "data": {
            "text/plain": [
              "<Figure size 432x288 with 1 Axes>"
            ],
            "image/png": "[encoded data removed]"
          },
          "metadata": {
            "needs_background": "light"
          }
        }
      ]
    },
    {
      "cell_type": "markdown",
      "source": [
        "**Conclusion:** For different schools, the common feature is that the higher the degree, the lower the number of students."
      ],
      "metadata": {
        "id": "KxjAgfD-IND2"
      }
    },
    {
      "cell_type": "code",
      "source": [
        "#@title (b1) global clustering coefficient\n",
        "print('Caltech: ', nx.transitivity(Caltech))\n",
        "print('MIT: ', nx.transitivity(MIT))\n",
        "print('John Hopkins: ', nx.transitivity(JHopking))"
      ],
      "metadata": {
        "colab": {
          "base_uri": "https://localhost:8080/"
        },
        "id": "4isFugxKJKfu",
        "outputId": "4fae2bec-28e9-406c-87d2-c27814e8d361"
      },
      "execution_count": null,
      "outputs": [
        {
          "output_type": "stream",
          "name": "stdout",
          "text": [
            "Caltech:  0.2912826901150874\n",
            "MIT:  0.18028845093502427\n",
            "John Hopkins:  0.19316123901594015\n"
          ]
        }
      ]
    },
    {
      "cell_type": "code",
      "source": [
        "#@title (b2) mean local clustering coefficient\n",
        "print('Caltech: ', nx.average_clustering(Caltech))\n",
        "print('MIT: ', nx.average_clustering(MIT))\n",
        "print('John Hopkins: ', nx.average_clustering(JHopking))"
      ],
      "metadata": {
        "colab": {
          "base_uri": "https://localhost:8080/"
        },
        "id": "fH8VZAXWSOTh",
        "outputId": "70aebcde-df12-4db4-9d0e-7c9a9a71c2f5"
      },
      "execution_count": null,
      "outputs": [
        {
          "output_type": "stream",
          "name": "stdout",
          "text": [
            "Caltech:  0.40929439048517247\n",
            "MIT:  0.2712187419501315\n",
            "John Hopkins:  0.26839307371293525\n"
          ]
        }
      ]
    },
    {
      "cell_type": "code",
      "source": [
        "#@title (b3) edge density\n",
        "print('Caltech: ', nx.density(Caltech))\n",
        "print('MIT: ', nx.density(MIT))\n",
        "print('John Hopkins: ', nx.density(JHopking))"
      ],
      "metadata": {
        "colab": {
          "base_uri": "https://localhost:8080/"
        },
        "id": "ieAqHEh8SesH",
        "outputId": "045e3eed-a9cd-4366-c9c3-752ac815ad7a"
      },
      "execution_count": null,
      "outputs": [
        {
          "output_type": "stream",
          "name": "stdout",
          "text": [
            "Caltech:  0.05640442132639792\n",
            "MIT:  0.012118119495041378\n",
            "John Hopkins:  0.013910200162372396\n"
          ]
        }
      ]
    },
    {
      "cell_type": "markdown",
      "source": [
        "**Answer:** Yes. Because all global clustering coefficient, mean local clustering coefficient and edge density are very low."
      ],
      "metadata": {
        "id": "c1Yj8H6GTknB"
      }
    },
    {
      "cell_type": "code",
      "source": [
        "#@title (c) scatter plot\n",
        "def scatterPlot(G):\n",
        "  deg = [d for n, d in G.degree()]\n",
        "  clu = list(nx.clustering(G).values())\n",
        "\n",
        "  plt.plot(deg, clu, \".\");\n",
        "  plt.xlabel(r\"Degree\")\n",
        "  plt.ylabel(r\"Local clustering\")"
      ],
      "metadata": {
        "id": "CJlHHLw4Y6F_"
      },
      "execution_count": null,
      "outputs": []
    },
    {
      "cell_type": "code",
      "source": [
        "#@title Caltech\n",
        "scatterPlot(Caltech)"
      ],
      "metadata": {
        "colab": {
          "base_uri": "https://localhost:8080/",
          "height": 279
        },
        "id": "kl8q985yjXqa",
        "outputId": "e1526958-7bfa-487d-d176-ab4049ef773e"
      },
      "execution_count": null,
      "outputs": [
        {
          "output_type": "display_data",
          "data": {
            "text/plain": [
              "<Figure size 432x288 with 1 Axes>"
            ],
            "image/png": "[encoded data removed]"
          },
          "metadata": {
            "needs_background": "light"
          }
        }
      ]
    },
    {
      "cell_type": "code",
      "source": [
        "#@title MIT\n",
        "scatterPlot(MIT)"
      ],
      "metadata": {
        "colab": {
          "base_uri": "https://localhost:8080/",
          "height": 279
        },
        "id": "8J82dHSFkBq4",
        "outputId": "a0784701-e61a-4411-844a-e41fe1f41326"
      },
      "execution_count": null,
      "outputs": [
        {
          "output_type": "display_data",
          "data": {
            "text/plain": [
              "<Figure size 432x288 with 1 Axes>"
            ],
            "image/png": "[encoded data removed]"
          },
          "metadata": {
            "needs_background": "light"
          }
        }
      ]
    },
    {
      "cell_type": "code",
      "source": [
        "#@title JHopking\n",
        "scatterPlot(JHopking)"
      ],
      "metadata": {
        "colab": {
          "base_uri": "https://localhost:8080/",
          "height": 279
        },
        "id": "OMRAwaMKkDTY",
        "outputId": "773bc6ad-740e-4312-efd0-f6e3a74f26bc"
      },
      "execution_count": null,
      "outputs": [
        {
          "output_type": "display_data",
          "data": {
            "text/plain": [
              "<Figure size 432x288 with 1 Axes>"
            ],
            "image/png": "[encoded data removed]"
          },
          "metadata": {
            "needs_background": "light"
          }
        }
      ]
    },
    {
      "cell_type": "markdown",
      "source": [
        "**Conclusion:** Those with low degrees may have high local clustering coefficients. This is because they may be close friends. A person with a high degree has a low local clustering coefficient, this is because although he has a large social network, the people he knows do not know each other."
      ],
      "metadata": {
        "id": "IychQ0HrnQpq"
      }
    },
    {
      "cell_type": "code",
      "source": [
        "#@title Question 3: Social Network Analysis with the Facebook100 Dataset\n",
        "G = []\n",
        "num = 50\n",
        "import os\n",
        "fileName = os.listdir('/content/drive/MyDrive/fb100/')\n",
        "for i in range(num):\n",
        "  filePath = '/content/drive/MyDrive/fb100/' + fileName[i]\n",
        "  G.append(nx.read_graphml(filePath))"
      ],
      "metadata": {
        "id": "8DzJ8BeWnbHc"
      },
      "execution_count": null,
      "outputs": []
    },
    {
      "cell_type": "code",
      "source": [
        "def assortativityPolt(item):\n",
        "  aVal = []\n",
        "  nSize = []\n",
        "  for i in range(num):\n",
        "    aVal.append(nx.attribute_assortativity_coefficient(G[i], item))\n",
        "    nSize.append(G[i].size())\n",
        "\n",
        "  plt.xlabel(r\"Network Size \")\n",
        "  plt.ylabel(item + \"Assortativity\")\n",
        "  plt.xscale('log')\n",
        "  plt.axhline(0, color='black')\n",
        "  plt.plot(nSize, aVal, '.');\n",
        "  plt.show()\n",
        "\n",
        "  sns.distplot(aVal,bins=\"auto\",kde_kws={\"color\":\"seagreen\", \"lw\":3 })\n",
        "  plt.xlabel(item + \"Assortativity\")\n",
        "  plt.axvline(0)"
      ],
      "metadata": {
        "id": "JXdf0reTQUCT"
      },
      "execution_count": null,
      "outputs": []
    },
    {
      "cell_type": "code",
      "source": [
        "#@title student/faculty status\n",
        "assortativityPolt(\"student_fac\")"
      ],
      "metadata": {
        "colab": {
          "base_uri": "https://localhost:8080/",
          "height": 601
        },
        "id": "Bb4b44RGUU9b",
        "outputId": "d5818e48-5379-45e4-bbd8-7f960d9357eb"
      },
      "execution_count": null,
      "outputs": [
        {
          "output_type": "display_data",
          "data": {
            "text/plain": [
              "<Figure size 432x288 with 1 Axes>"
            ],
            "image/png": "[encoded data removed]"
          },
          "metadata": {
            "needs_background": "light"
          }
        },
        {
          "output_type": "stream",
          "name": "stderr",
          "text": [
            "/usr/local/lib/python3.8/dist-packages/seaborn/distributions.py:2619: FutureWarning: `distplot` is a deprecated function and will be removed in a future version. Please adapt your code to use either `displot` (a figure-level function with similar flexibility) or `histplot` (an axes-level function for histograms).\n",
            "  warnings.warn(msg, FutureWarning)\n"
          ]
        },
        {
          "output_type": "display_data",
          "data": {
            "text/plain": [
              "<Figure size 432x288 with 1 Axes>"
            ],
            "image/png": "[encoded data removed]"
          },
          "metadata": {
            "needs_background": "light"
          }
        }
      ]
    },
    {
      "cell_type": "code",
      "source": [
        "#@title major\n",
        "assortativityPolt(\"major_index\")"
      ],
      "metadata": {
        "colab": {
          "base_uri": "https://localhost:8080/",
          "height": 601
        },
        "id": "bdLcXtvuUfUZ",
        "outputId": "083e3df5-92b5-4b75-e6e7-a7f4b1dd8148"
      },
      "execution_count": null,
      "outputs": [
        {
          "output_type": "display_data",
          "data": {
            "text/plain": [
              "<Figure size 432x288 with 1 Axes>"
            ],
            "image/png": "[encoded data removed]"
          },
          "metadata": {
            "needs_background": "light"
          }
        },
        {
          "output_type": "stream",
          "name": "stderr",
          "text": [
            "/usr/local/lib/python3.8/dist-packages/seaborn/distributions.py:2619: FutureWarning: `distplot` is a deprecated function and will be removed in a future version. Please adapt your code to use either `displot` (a figure-level function with similar flexibility) or `histplot` (an axes-level function for histograms).\n",
            "  warnings.warn(msg, FutureWarning)\n"
          ]
        },
        {
          "output_type": "display_data",
          "data": {
            "text/plain": [
              "<Figure size 432x288 with 1 Axes>"
            ],
            "image/png": "[encoded data removed]"
          },
          "metadata": {
            "needs_background": "light"
          }
        }
      ]
    },
    {
      "cell_type": "code",
      "source": [
        "#@title dorm\n",
        "assortativityPolt(\"dorm\")"
      ],
      "metadata": {
        "colab": {
          "base_uri": "https://localhost:8080/",
          "height": 600
        },
        "id": "sot6RYXzUWlV",
        "outputId": "5a1c85a7-a72b-42bd-e8a6-b016f1ed2b0f"
      },
      "execution_count": null,
      "outputs": [
        {
          "output_type": "display_data",
          "data": {
            "text/plain": [
              "<Figure size 432x288 with 1 Axes>"
            ],
            "image/png": "[encoded data removed]"
          },
          "metadata": {
            "needs_background": "light"
          }
        },
        {
          "output_type": "stream",
          "name": "stderr",
          "text": [
            "/usr/local/lib/python3.8/dist-packages/seaborn/distributions.py:2619: FutureWarning: `distplot` is a deprecated function and will be removed in a future version. Please adapt your code to use either `displot` (a figure-level function with similar flexibility) or `histplot` (an axes-level function for histograms).\n",
            "  warnings.warn(msg, FutureWarning)\n"
          ]
        },
        {
          "output_type": "display_data",
          "data": {
            "text/plain": [
              "<Figure size 432x288 with 1 Axes>"
            ],
            "image/png": "[encoded data removed]"
          },
          "metadata": {
            "needs_background": "light"
          }
        }
      ]
    },
    {
      "cell_type": "code",
      "source": [
        "#@title degree\n",
        "def assortativityDegPolt():\n",
        "  aVal = []\n",
        "  nSize = []\n",
        "  for i in range(num):\n",
        "    aVal.append(nx.degree_assortativity_coefficient(G[i]))\n",
        "    nSize.append(G[i].size())\n",
        "\n",
        "  plt.xlabel(\"Network Size \")\n",
        "  plt.ylabel(\"Degree Assortativity\")\n",
        "  plt.xscale('log')\n",
        "  plt.axhline(0, color = \"black\")\n",
        "  plt.plot(nSize, aVal, '.');\n",
        "  plt.show()\n",
        "\n",
        "  sns.distplot(aVal,bins=\"auto\",kde_kws={\"color\":\"seagreen\", \"lw\":3 })\n",
        "  plt.xlabel(\"Degree Assortativity\")\n",
        "  plt.axvline(0)\n",
        "\n",
        "assortativityDegPolt()"
      ],
      "metadata": {
        "colab": {
          "base_uri": "https://localhost:8080/",
          "height": 600
        },
        "id": "3QRG21-e125f",
        "outputId": "c1de33d4-d38e-4a7a-cd36-7a558a8f79c4"
      },
      "execution_count": null,
      "outputs": [
        {
          "output_type": "display_data",
          "data": {
            "text/plain": [
              "<Figure size 432x288 with 1 Axes>"
            ],
            "image/png": "[encoded data removed]"
          },
          "metadata": {
            "needs_background": "light"
          }
        },
        {
          "output_type": "stream",
          "name": "stderr",
          "text": [
            "/usr/local/lib/python3.8/dist-packages/seaborn/distributions.py:2619: FutureWarning: `distplot` is a deprecated function and will be removed in a future version. Please adapt your code to use either `displot` (a figure-level function with similar flexibility) or `histplot` (an axes-level function for histograms).\n",
            "  warnings.warn(msg, FutureWarning)\n"
          ]
        },
        {
          "output_type": "display_data",
          "data": {
            "text/plain": [
              "<Figure size 432x288 with 1 Axes>"
            ],
            "image/png": "[encoded data removed]"
          },
          "metadata": {
            "needs_background": "light"
          }
        }
      ]
    },
    {
      "cell_type": "markdown",
      "source": [
        "**Conclusion:** among the four factors, student/faculty status has the highest assortativity. This shows that people are more likely to make friends with people in the same state as themselves. In contrast, the assortativities of dormitories and majors are relatively low."
      ],
      "metadata": {
        "id": "_iRpK1ZNbeFG"
      }
    },
    {
      "cell_type": "code",
      "source": [
        "#@title Question 4: Link prediction\n",
        "from abc import ABC\n",
        "from abc import abstractmethod \n",
        "class LinkPrediction(ABC):\n",
        "  def __init__(self, graph):\n",
        "    self.graph = graph\n",
        "    self.N = len(graph)\n",
        "  def neighbors(self, v): \n",
        "    neighbors_list = self.graph.neighbors(v)\n",
        "    return list(neighbors_list)\n",
        "  def allPairs(self):\n",
        "    pairs_list = [i for i in itertools.combinations(self.graph.nodes(), 2)]\n",
        "    return pairs_list\n",
        "  @abstractmethod \n",
        "  def fit(self):\n",
        "    raise NotImplementedError(\"Fit must be implemented\") \n",
        "    \n",
        "class CommonNeighbors(LinkPrediction):\n",
        "  def __init__(self, graph):\n",
        "    super(CommonNeighbors , self).__init__(graph)\n",
        "\n",
        "  def commNb(self, x, y):\n",
        "    #lx = self.neighbors(x);\n",
        "    #ly = self.neighbors(y);\n",
        "    return len(list(nx.common_neighbors(self.graph, x, y)))\n",
        "    #return len([i for i in lx if i in ly])\n",
        "\n",
        "  def predict(self):\n",
        "    pairs_list = self.allPairs()\n",
        "    Ep = [self.commNb(i[0], i[1]) for i in pairs_list]\n",
        "    return Ep\n",
        "\n",
        "  def fit(self, n):\n",
        "    Ep = self.predict()\n",
        "    ap = self.allPairs()\n",
        "    idx = range(len(ap))\n",
        "    Ep, idx = zip(*sorted(zip(Ep, idx), reverse = True))\n",
        "    self.res = [ap[idx[i]] for i in range(n)]\n",
        "    #self.epn = Ep\n",
        "    return [ap[i] for i in range(n)]\n",
        "\n",
        "\n",
        "\n",
        "\n",
        "class Jaccard(LinkPrediction):\n",
        "  def __init__(self, graph):\n",
        "    super(Jaccard , self).__init__(graph)\n",
        "\n",
        "  def Jad(self, x, y):\n",
        "    #lx = set(self.neighbors(x))\n",
        "    #ly = set(self.neighbors(y))\n",
        "    #lx1 = copy.deepcopy(lx)\n",
        "    #ly1 = copy.deepcopy(ly)\n",
        "    #gg = copy.deepcopy(self.graph)\n",
        "    sizei = len(list(nx.common_neighbors(self.graph, x, y)))\n",
        "    sizeu = len(list(self.graph.neighbors(x))) + len(list(self.graph.neighbors(y))) - sizei\n",
        "\n",
        "    if sizeu == 0:\n",
        "      return 0\n",
        "\n",
        "    return sizei / sizeu\n",
        "\n",
        "  def predict(self):\n",
        "    pairs_list = self.allPairs()\n",
        "    Ep = [self.Jad(i[0], i[1]) for i in pairs_list]\n",
        "    return Ep\n",
        "\n",
        "  def fit(self, n):\n",
        "    Ep = self.predict()\n",
        "    ap = self.allPairs()\n",
        "    idx = range(len(ap))\n",
        "    Ep, idx = zip(*sorted(zip(Ep, idx), reverse = True))\n",
        "    self.res = [ap[idx[i]] for i in range(n)]\n",
        "    #self.epn = Ep\n",
        "    return [ap[i] for i in range(n)]\n",
        "\n",
        "\n",
        "\n",
        "class Ada(LinkPrediction):\n",
        "  def __init__(self, graph):\n",
        "    super(Ada , self).__init__(graph)\n",
        "\n",
        "  def Ad(self, x, y):\n",
        "    #lx = self.neighbors(x);\n",
        "    #ly = self.neighbors(y);\n",
        "    iset = list(nx.common_neighbors(self.graph, x, y))\n",
        "    return sum([1.0/math.log(len(self.neighbors(i)), 10) for i in iset])\n",
        "\n",
        "  def predict(self):\n",
        "    pairs_list = self.allPairs()\n",
        "    Ep = [self.Ad(i[0], i[1]) for i in pairs_list]\n",
        "    return Ep\n",
        "\n",
        "  def fit(self, n):\n",
        "    Ep = self.predict()\n",
        "    ap = self.allPairs()\n",
        "    idx = range(len(ap))\n",
        "    Ep, idx = zip(*sorted(zip(Ep, idx), reverse = True))\n",
        "    self.res = [ap[idx[i]] for i in range(n)]\n",
        "    #self.epn = Ep\n",
        "    return [ap[i] for i in range(n)]"
      ],
      "metadata": {
        "id": "RD6lFQUsbjHe"
      },
      "execution_count": null,
      "outputs": []
    },
    {
      "cell_type": "code",
      "source": [
        "def evaluate(G, frac, topN):\n",
        "  num = int(len(G.edges())*frac)\n",
        "  Erem = random.sample(G.edges(), num)\n",
        "  newG = G\n",
        "  newG.remove_edges_from(Erem)\n",
        "  \n",
        "  \n",
        "  lp1 = CommonNeighbors(newG)\n",
        "  lp1.fit(topN)\n",
        "  lp2 = Jaccard(newG)\n",
        "  lp2.fit(topN)\n",
        "  lp3 = Ada(newG)\n",
        "  lp3.fit(topN)\n",
        "  \n",
        "  Epred1 = lp1.res\n",
        "  Epred2 = lp2.res\n",
        "  Epred3 = lp3.res\n",
        "\n",
        "  print(\"Common Neighbors: \" + str(len(list(set(Erem).intersection(set(Epred1))))))\n",
        "  print(\"Jaccard: \" + str(len(list(set(Erem).intersection(set(Epred2))))))\n",
        "  print(\"Adamic/Adar: \" + str(len(list(set(Erem).intersection(set(Epred3))))))"
      ],
      "metadata": {
        "id": "GLQKdb-U2x4W"
      },
      "execution_count": null,
      "outputs": []
    },
    {
      "cell_type": "code",
      "source": [
        "Caltech = nx.read_graphml(\"/content/drive/MyDrive/fb100/Caltech36.graphml\")\n",
        "Simmons = nx.read_graphml(\"/content/drive/MyDrive/fb100/Simmons81.graphml\")\n",
        "Reed = nx.read_graphml(\"/content/drive/MyDrive/fb100/Reed98.graphml\")"
      ],
      "metadata": {
        "id": "o-azgiZv2m7U"
      },
      "execution_count": null,
      "outputs": []
    },
    {
      "cell_type": "code",
      "source": [
        "def showEva(G, tn):\n",
        "  print(\"\\n Fraction = 0.05: \")\n",
        "  evaluate(G, 0.05, tn)\n",
        "  print(\"\\n Fraction = 0.10: \")\n",
        "  evaluate(G, 0.10, tn)\n",
        "  print(\"\\n Fraction = 0.15: \")\n",
        "  evaluate(G, 0.15, tn)\n",
        "  print(\"\\n Fraction = 0.20: \")\n",
        "  evaluate(G, 0.20, tn)"
      ],
      "metadata": {
        "id": "UmiKrdVdZB_w"
      },
      "execution_count": null,
      "outputs": []
    },
    {
      "cell_type": "code",
      "source": [
        "showEva(Caltech, 10000)"
      ],
      "metadata": {
        "colab": {
          "base_uri": "https://localhost:8080/"
        },
        "id": "jY0E4QjU6o4o",
        "outputId": "8751a81a-3a14-43b7-f18c-32456c1c0b93"
      },
      "execution_count": null,
      "outputs": [
        {
          "output_type": "stream",
          "name": "stdout",
          "text": [
            "\n",
            " Fraction = 0.05: \n",
            "Common Neighbors: 340\n",
            "Jaccard: 327\n",
            "Adamic/Adar: 344\n",
            "\n",
            " Fraction = 0.10: \n",
            "Common Neighbors: 650\n",
            "Jaccard: 647\n",
            "Adamic/Adar: 658\n",
            "\n",
            " Fraction = 0.15: \n",
            "Common Neighbors: 884\n",
            "Jaccard: 823\n",
            "Adamic/Adar: 884\n",
            "\n",
            " Fraction = 0.20: \n",
            "Common Neighbors: 902\n",
            "Jaccard: 859\n",
            "Adamic/Adar: 945\n"
          ]
        }
      ]
    },
    {
      "cell_type": "code",
      "source": [
        "showEva(Simmons, 10000)"
      ],
      "metadata": {
        "colab": {
          "base_uri": "https://localhost:8080/"
        },
        "id": "x4AT4PRZk233",
        "outputId": "f1e46f70-00a4-4646-c484-84c6d3722799"
      },
      "execution_count": null,
      "outputs": [
        {
          "output_type": "stream",
          "name": "stdout",
          "text": [
            "\n",
            " Fraction = 0.05: \n",
            "Common Neighbors: 329\n",
            "Jaccard: 266\n",
            "Adamic/Adar: 343\n",
            "\n",
            " Fraction = 0.10: \n",
            "Common Neighbors: 599\n",
            "Jaccard: 469\n",
            "Adamic/Adar: 611\n",
            "\n",
            " Fraction = 0.15: \n",
            "Common Neighbors: 815\n",
            "Jaccard: 615\n",
            "Adamic/Adar: 838\n",
            "\n",
            " Fraction = 0.20: \n",
            "Common Neighbors: 918\n",
            "Jaccard: 609\n",
            "Adamic/Adar: 952\n"
          ]
        }
      ]
    },
    {
      "cell_type": "code",
      "source": [
        "showEva(Reed, 10000)"
      ],
      "metadata": {
        "colab": {
          "base_uri": "https://localhost:8080/"
        },
        "id": "u5acr7glaWjE",
        "outputId": "1d4f88b9-ef48-4b83-ef45-563be53fbb9b"
      },
      "execution_count": null,
      "outputs": [
        {
          "output_type": "stream",
          "name": "stdout",
          "text": [
            "\n",
            " Fraction = 0.05: \n",
            "Common Neighbors: 283\n",
            "Jaccard: 316\n",
            "Adamic/Adar: 289\n",
            "\n",
            " Fraction = 0.10: \n",
            "Common Neighbors: 506\n",
            "Jaccard: 576\n",
            "Adamic/Adar: 520\n",
            "\n",
            " Fraction = 0.15: \n",
            "Common Neighbors: 656\n",
            "Jaccard: 709\n",
            "Adamic/Adar: 678\n",
            "\n",
            " Fraction = 0.20: \n",
            "Common Neighbors: 695\n",
            "Jaccard: 688\n",
            "Adamic/Adar: 723\n"
          ]
        }
      ]
    },
    {
      "cell_type": "markdown",
      "source": [
        "**Conclusion:** All three methods can effectively predict links. However, the performance of the three methods differs on different datasets. This indicates that different methods are applicable to different datasets."
      ],
      "metadata": {
        "id": "kPEGzw-dhFaF"
      }
    },
    {
      "cell_type": "code",
      "source": [
        "#@title Question 5: Find missing labels with the label propagation algorithms\n",
        "\n",
        "def preprocessing(G, attr, frac):\n",
        "  labelVal = nx.get_node_attributes(G,attr)\n",
        "  labelType = list(set(val for dic in labelVal for val in labelVal.values()))\n",
        "  if 0 in labelType:\n",
        "    labelType.remove(0)\n",
        "  Nlabel = len(labelType)\n",
        "\n",
        "  A = nx.to_numpy_array(G)\n",
        "  A = np.array(A, dtype = np.float64)\n",
        "  D = np.diag(np.sum(A, axis=0))\n",
        "  P = np.dot(np.linalg.inv(D),A)\n",
        "\n",
        "  Nnum = len(G.nodes())\n",
        "  Rnum = int(Nnum*frac)\n",
        "  Nrem = random.sample(range(Nnum), Rnum)\n",
        "\n",
        "  Y = np.zeros((Nnum, Nlabel))\n",
        "  groundTruth = np.zeros((Nnum, Nlabel))\n",
        "\n",
        "  for i in range(Nnum):\n",
        "    lv = labelVal[str(i)]\n",
        "    if lv == 0:\n",
        "      continue\n",
        "    \n",
        "    idx = labelType.index(lv)\n",
        "    groundTruth[i,idx] = 1\n",
        "    if i in Nrem:\n",
        "      continue\n",
        "    \n",
        "    P[i] = np.zeros(Nnum)\n",
        "    P[i,i] = 1\n",
        "    Y[i,idx] = 1\n",
        "\n",
        "\n",
        "  return P, Y, Nrem, groundTruth\n"
      ],
      "metadata": {
        "id": "5SfMeL0OsQTx"
      },
      "execution_count": 4,
      "outputs": []
    },
    {
      "cell_type": "code",
      "source": [
        "def LPZhu(G, P, Y0):\n",
        "  Y = Y0.copy()\n",
        "  dif = 1000\n",
        "  for i in range(1000):\n",
        "  #while dif > 0.001:\n",
        "    Yold = Y.copy()\n",
        "    Y = np.dot(P, Yold)\n",
        "    dif = np.abs(np.sum(Y - Yold))\n",
        "  return Y"
      ],
      "metadata": {
        "id": "YIYilciAtZe9"
      },
      "execution_count": 5,
      "outputs": []
    },
    {
      "cell_type": "code",
      "source": [
        "Duke = nx.read_graphml(\"/content/drive/MyDrive/fb100/Duke14.graphml\")"
      ],
      "metadata": {
        "id": "1bXFYQOVsv4G"
      },
      "execution_count": 4,
      "outputs": []
    },
    {
      "cell_type": "code",
      "source": [
        "def eva(G, attr, frac):\n",
        "  P, Y0, Nrem, groundTruth = preprocessing(G, attr, frac)\n",
        "  Y = LPZhu(G, P, Y0)\n",
        "\n",
        "  cnt = 0\n",
        "  tot = 0\n",
        "  for i in Nrem:\n",
        "    if np.max(groundTruth[i]) == 0:\n",
        "      continue\n",
        "    if np.argmax(groundTruth[i]) == np.argmax(Y[i]):\n",
        "      cnt += 1\n",
        "    tot += 1\n",
        "  return cnt/tot"
      ],
      "metadata": {
        "id": "xYefiO6kLsfV"
      },
      "execution_count": 8,
      "outputs": []
    },
    {
      "cell_type": "code",
      "source": [
        "#@title (1) Duke\n",
        "r1 = eva(Duke, 'gender', 0.1)\n",
        "r2 = eva(Duke, 'gender', 0.2)\n",
        "r3 = eva(Duke, 'gender', 0.3)\n",
        "r4 = eva(Duke, 'gender', 0.4)\n",
        "print(\"Gender, frac = 0.1, accuracy = \" + str(r1))\n",
        "print(\"Gender, frac = 0.2, accuracy = \" + str(r2))\n",
        "print(\"Gender, frac = 0.3, accuracy = \" + str(r3))\n",
        "print(\"Gender, frac = 0.4, accuracy = \" + str(r4))"
      ],
      "metadata": {
        "colab": {
          "base_uri": "https://localhost:8080/"
        },
        "id": "aycqwLHXdX0L",
        "outputId": "65b82224-1645-4011-ebd5-c33fb68689bc"
      },
      "execution_count": 15,
      "outputs": [
        {
          "output_type": "stream",
          "name": "stdout",
          "text": [
            "Gender, frac = 0.1, accuracy = 0.6923937360178971\n",
            "Gender, frac = 0.2, accuracy = 0.6916666666666667\n",
            "Gender, frac = 0.3, accuracy = 0.6798229435632608\n",
            "Gender, frac = 0.4, accuracy = 0.6777563926312895\n"
          ]
        }
      ]
    },
    {
      "cell_type": "code",
      "source": [
        "r1 = eva(Duke, 'major_index', 0.1)\n",
        "r2 = eva(Duke, 'major_index', 0.2)\n",
        "r3 = eva(Duke, 'major_index', 0.3)\n",
        "r4 = eva(Duke, 'major_index', 0.4)\n",
        "print(\"Major, frac = 0.1, accuracy = \" + str(r1))\n",
        "print(\"Major, frac = 0.2, accuracy = \" + str(r2))\n",
        "print(\"Major, frac = 0.3, accuracy = \" + str(r3))\n",
        "print(\"Major, frac = 0.4, accuracy = \" + str(r4))"
      ],
      "metadata": {
        "colab": {
          "base_uri": "https://localhost:8080/"
        },
        "id": "S8_42SdTvGdz",
        "outputId": "a206321d-0e7f-4f95-bbbe-4aed11fa1f56"
      },
      "execution_count": 20,
      "outputs": [
        {
          "output_type": "stream",
          "name": "stdout",
          "text": [
            "Major, frac = 0.1, accuracy = 0.24489795918367346\n",
            "Major, frac = 0.2, accuracy = 0.2800503461296413\n",
            "Major, frac = 0.3, accuracy = 0.2593984962406015\n",
            "Major, frac = 0.4, accuracy = 0.24763705103969755\n"
          ]
        }
      ]
    },
    {
      "cell_type": "code",
      "source": [
        "r1 = eva(Duke, 'dorm', 0.1)\n",
        "r2 = eva(Duke, 'dorm', 0.2)\n",
        "r3 = eva(Duke, 'dorm', 0.3)\n",
        "r4 = eva(Duke, 'dorm', 0.4)\n",
        "print(\"Dorm, frac = 0.1, accuracy = \" + str(r1))\n",
        "print(\"Dorm, frac = 0.2, accuracy = \" + str(r2))\n",
        "print(\"Dorm, frac = 0.3, accuracy = \" + str(r3))\n",
        "print(\"Dorm, frac = 0.4, accuracy = \" + str(r4))"
      ],
      "metadata": {
        "colab": {
          "base_uri": "https://localhost:8080/"
        },
        "id": "F-QAShLFK5Q3",
        "outputId": "2184503a-beb1-47ba-fcd1-0d3d082e08ab"
      },
      "execution_count": 21,
      "outputs": [
        {
          "output_type": "stream",
          "name": "stdout",
          "text": [
            "Dorm, frac = 0.1, accuracy = 0.5313390313390314\n",
            "Dorm, frac = 0.2, accuracy = 0.527363184079602\n",
            "Dorm, frac = 0.3, accuracy = 0.5196032120925839\n",
            "Dorm, frac = 0.4, accuracy = 0.5146533238027162\n"
          ]
        }
      ]
    },
    {
      "cell_type": "code",
      "source": [
        "r1 = eva(Duke, 'year', 0.1)\n",
        "r2 = eva(Duke, 'year', 0.2)\n",
        "r3 = eva(Duke, 'year', 0.3)\n",
        "r4 = eva(Duke, 'year', 0.4)\n",
        "print(\"Year, frac = 0.1, accuracy = \" + str(r1))\n",
        "print(\"Year, frac = 0.2, accuracy = \" + str(r2))\n",
        "print(\"Year, frac = 0.3, accuracy = \" + str(r3))\n",
        "print(\"Year, frac = 0.4, accuracy = \" + str(r4))"
      ],
      "metadata": {
        "colab": {
          "base_uri": "https://localhost:8080/"
        },
        "id": "swpjQAcYVIoB",
        "outputId": "9aed88c9-1caf-4d75-fd04-7a200ad7deaa"
      },
      "execution_count": 22,
      "outputs": [
        {
          "output_type": "stream",
          "name": "stdout",
          "text": [
            "Year, frac = 0.1, accuracy = 0.9073446327683616\n",
            "Year, frac = 0.2, accuracy = 0.8965122927387078\n",
            "Year, frac = 0.3, accuracy = 0.905595736581652\n",
            "Year, frac = 0.4, accuracy = 0.9026624677927283\n"
          ]
        }
      ]
    },
    {
      "cell_type": "code",
      "source": [
        "Caltech = nx.read_graphml(\"/content/drive/MyDrive/fb100/Caltech36.graphml\")"
      ],
      "metadata": {
        "id": "uS7eh8CmrRjA"
      },
      "execution_count": 2,
      "outputs": []
    },
    {
      "cell_type": "code",
      "source": [
        "#@title (2) Caltech\n",
        "r1 = eva(Caltech, 'gender', 0.1)\n",
        "r2 = eva(Caltech, 'gender', 0.2)\n",
        "r3 = eva(Caltech, 'gender', 0.3)\n",
        "r4 = eva(Caltech, 'gender', 0.4)\n",
        "print(\"Gender, frac = 0.1, accuracy = \" + str(r1))\n",
        "print(\"Gender, frac = 0.2, accuracy = \" + str(r2))\n",
        "print(\"Gender, frac = 0.3, accuracy = \" + str(r3))\n",
        "print(\"Gender, frac = 0.4, accuracy = \" + str(r4))"
      ],
      "metadata": {
        "colab": {
          "base_uri": "https://localhost:8080/"
        },
        "id": "y-IFYGljrUak",
        "outputId": "5a70dc3d-1435-45b0-e5e5-b4a2a994169e"
      },
      "execution_count": 11,
      "outputs": [
        {
          "output_type": "stream",
          "name": "stdout",
          "text": [
            "Gender, frac = 0.1, accuracy = 0.5492957746478874\n",
            "Gender, frac = 0.2, accuracy = 0.6853146853146853\n",
            "Gender, frac = 0.3, accuracy = 0.6698113207547169\n",
            "Gender, frac = 0.4, accuracy = 0.6595744680851063\n"
          ]
        }
      ]
    },
    {
      "cell_type": "code",
      "source": [
        "r1 = eva(Caltech, 'major_index', 0.1)\n",
        "r2 = eva(Caltech, 'major_index', 0.2)\n",
        "r3 = eva(Caltech, 'major_index', 0.3)\n",
        "r4 = eva(Caltech, 'major_index', 0.4)\n",
        "print(\"Major, frac = 0.1, accuracy = \" + str(r1))\n",
        "print(\"Major, frac = 0.2, accuracy = \" + str(r2))\n",
        "print(\"Major, frac = 0.3, accuracy = \" + str(r3))\n",
        "print(\"Major, frac = 0.4, accuracy = \" + str(r4))"
      ],
      "metadata": {
        "colab": {
          "base_uri": "https://localhost:8080/"
        },
        "id": "9EIwASEdrqgi",
        "outputId": "25c44923-64db-4bc3-b8a3-760231ac16d7"
      },
      "execution_count": 12,
      "outputs": [
        {
          "output_type": "stream",
          "name": "stdout",
          "text": [
            "Major, frac = 0.1, accuracy = 0.2647058823529412\n",
            "Major, frac = 0.2, accuracy = 0.20930232558139536\n",
            "Major, frac = 0.3, accuracy = 0.24285714285714285\n",
            "Major, frac = 0.4, accuracy = 0.21611721611721613\n"
          ]
        }
      ]
    },
    {
      "cell_type": "code",
      "source": [
        "r1 = eva(Caltech, 'dorm', 0.1)\n",
        "r2 = eva(Caltech, 'dorm', 0.2)\n",
        "r3 = eva(Caltech, 'dorm', 0.3)\n",
        "r4 = eva(Caltech, 'dorm', 0.4)\n",
        "print(\"Dorm, frac = 0.1, accuracy = \" + str(r1))\n",
        "print(\"Dorm, frac = 0.2, accuracy = \" + str(r2))\n",
        "print(\"Dorm, frac = 0.3, accuracy = \" + str(r3))\n",
        "print(\"Dorm, frac = 0.4, accuracy = \" + str(r4))"
      ],
      "metadata": {
        "colab": {
          "base_uri": "https://localhost:8080/"
        },
        "id": "3RqjpZNZrv83",
        "outputId": "d26c4de4-d3ae-41ce-bea5-4ed350ba2d5b"
      },
      "execution_count": 13,
      "outputs": [
        {
          "output_type": "stream",
          "name": "stdout",
          "text": [
            "Dorm, frac = 0.1, accuracy = 0.8928571428571429\n",
            "Dorm, frac = 0.2, accuracy = 0.8703703703703703\n",
            "Dorm, frac = 0.3, accuracy = 0.8764705882352941\n",
            "Dorm, frac = 0.4, accuracy = 0.8137651821862348\n"
          ]
        }
      ]
    },
    {
      "cell_type": "code",
      "source": [
        "r1 = eva(Caltech, 'year', 0.1)\n",
        "r2 = eva(Caltech, 'year', 0.2)\n",
        "r3 = eva(Caltech, 'year', 0.3)\n",
        "r4 = eva(Caltech, 'year', 0.4)\n",
        "print(\"Year, frac = 0.1, accuracy = \" + str(r1))\n",
        "print(\"Year, frac = 0.2, accuracy = \" + str(r2))\n",
        "print(\"Year, frac = 0.3, accuracy = \" + str(r3))\n",
        "print(\"Year, frac = 0.4, accuracy = \" + str(r4))"
      ],
      "metadata": {
        "colab": {
          "base_uri": "https://localhost:8080/"
        },
        "id": "opBhkGclr2vv",
        "outputId": "56b6a1f5-0e19-48b6-88e3-a5185956daf8"
      },
      "execution_count": 14,
      "outputs": [
        {
          "output_type": "stream",
          "name": "stdout",
          "text": [
            "Year, frac = 0.1, accuracy = 0.8181818181818182\n",
            "Year, frac = 0.2, accuracy = 0.7209302325581395\n",
            "Year, frac = 0.3, accuracy = 0.7043010752688172\n",
            "Year, frac = 0.4, accuracy = 0.7026022304832714\n"
          ]
        }
      ]
    },
    {
      "cell_type": "markdown",
      "source": [
        "**Conclusion:** For both universities, the label predictions for year work well. This may be because students are more connected to students in the same school year as themselves. The gender label also predicts well, which may be because each student is more connected to students of their own same gender. The label predictors for major are all poor, probably because students don't just contact with their own major, and there is a wide variety of majors. The label predictions for dormitory are more different, which may be related to the distribution of dormitories in two universities."
      ],
      "metadata": {
        "id": "UAL_WfnahhYZ"
      }
    }
  ]
}